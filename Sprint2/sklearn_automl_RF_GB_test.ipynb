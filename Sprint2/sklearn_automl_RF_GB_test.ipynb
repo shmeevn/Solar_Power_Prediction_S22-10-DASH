{
  "nbformat": 4,
  "nbformat_minor": 0,
  "metadata": {
    "colab": {
      "name": "sklearn_automl_RF_GB_test.ipynb",
      "provenance": [],
      "authorship_tag": "ABX9TyMpXm63zaIaBjeDFbq8+bX7"
    },
    "kernelspec": {
      "name": "python3",
      "display_name": "Python 3"
    },
    "language_info": {
      "name": "python"
    }
  },
  "cells": [
    {
      "cell_type": "code",
      "execution_count": null,
      "metadata": {
        "id": "IbAM6bARrhxl"
      },
      "outputs": [],
      "source": [
        "!pip install auto-sklearn"
      ]
    },
    {
      "cell_type": "code",
      "source": [
        "!pip install scipy==1.7.0"
      ],
      "metadata": {
        "id": "w6Qc-FjCzFPY"
      },
      "execution_count": null,
      "outputs": []
    },
    {
      "cell_type": "code",
      "source": [
        "from pprint import pprint\n",
        "\n",
        "import sklearn.datasets\n",
        "import sklearn.metrics\n",
        "from sklearn.model_selection import train_test_split\n",
        "import autosklearn.regression\n",
        "import matplotlib.pyplot as plt"
      ],
      "metadata": {
        "id": "Wmz2D2iotg51"
      },
      "execution_count": 1,
      "outputs": []
    },
    {
      "cell_type": "code",
      "source": [
        "import pandas as pd\n",
        "import numpy as np"
      ],
      "metadata": {
        "id": "k_8-dmkc0J-a"
      },
      "execution_count": 2,
      "outputs": []
    },
    {
      "cell_type": "code",
      "source": [
        "#table of data frame\n",
        "data = pd.read_csv(r'/content/weather.csv')\n",
        "data"
      ],
      "metadata": {
        "colab": {
          "base_uri": "https://localhost:8080/",
          "height": 678
        },
        "id": "uFN9tM7KuEXN",
        "outputId": "4ec51515-6c55-4932-8e2b-faca50395da9"
      },
      "execution_count": 3,
      "outputs": [
        {
          "output_type": "execute_result",
          "data": {
            "text/plain": [
              "       Data.Precipitation   Date.Full  Date.Month  Date.Week of  Date.Year  \\\n",
              "0                    0.00  2016-01-03           1             3       2016   \n",
              "1                    0.00  2016-01-03           1             3       2016   \n",
              "2                    0.16  2016-01-03           1             3       2016   \n",
              "3                    0.00  2016-01-03           1             3       2016   \n",
              "4                    0.01  2016-01-03           1             3       2016   \n",
              "...                   ...         ...         ...           ...        ...   \n",
              "16738                0.08  2017-01-01           1             1       2017   \n",
              "16739                0.00  2017-01-01           1             1       2017   \n",
              "16740                0.00  2017-01-01           1             1       2017   \n",
              "16741                0.06  2017-01-01           1             1       2017   \n",
              "16742                0.10  2017-01-01           1             1       2017   \n",
              "\n",
              "      Station.City Station.Code Station.Location Station.State  \\\n",
              "0       Birmingham          BHM   Birmingham, AL       Alabama   \n",
              "1       Huntsville          HSV   Huntsville, AL       Alabama   \n",
              "2           Mobile          MOB       Mobile, AL       Alabama   \n",
              "3       Montgomery          MGM   Montgomery, AL       Alabama   \n",
              "4        Anchorage          ANC    Anchorage, AK        Alaska   \n",
              "...            ...          ...              ...           ...   \n",
              "16738       Casper          CPR       Casper, WY       Wyoming   \n",
              "16739     Cheyenne          CYS     Cheyenne, WY       Wyoming   \n",
              "16740       Lander          LND       Lander, WY       Wyoming   \n",
              "16741      Rawlins          RWL      Rawlins, WY       Wyoming   \n",
              "16742     Sheridan          SHR     Sheridan, WY       Wyoming   \n",
              "\n",
              "       Data.Temperature.Avg Temp  Data.Temperature.Max Temp  \\\n",
              "0                             39                         46   \n",
              "1                             39                         47   \n",
              "2                             46                         51   \n",
              "3                             45                         52   \n",
              "4                             34                         38   \n",
              "...                          ...                        ...   \n",
              "16738                         23                         32   \n",
              "16739                         32                         42   \n",
              "16740                         17                         29   \n",
              "16741                         23                         31   \n",
              "16742                         21                         34   \n",
              "\n",
              "       Data.Temperature.Min Temp  Data.Wind.Direction  Data.Wind.Speed  \n",
              "0                             32                   33             4.33  \n",
              "1                             31                   32             3.86  \n",
              "2                             41                   35             9.73  \n",
              "3                             38                   32             6.86  \n",
              "4                             29                   19             7.80  \n",
              "...                          ...                  ...              ...  \n",
              "16738                         15                   23            19.98  \n",
              "16739                         21                   26            15.16  \n",
              "16740                          4                   26             1.65  \n",
              "16741                         13                   24            18.16  \n",
              "16742                          8                   23             7.51  \n",
              "\n",
              "[16743 rows x 14 columns]"
            ],
            "text/html": [
              "\n",
              "  <div id=\"df-e6a3ff8f-d137-4c76-921a-2c632e889e18\">\n",
              "    <div class=\"colab-df-container\">\n",
              "      <div>\n",
              "<style scoped>\n",
              "    .dataframe tbody tr th:only-of-type {\n",
              "        vertical-align: middle;\n",
              "    }\n",
              "\n",
              "    .dataframe tbody tr th {\n",
              "        vertical-align: top;\n",
              "    }\n",
              "\n",
              "    .dataframe thead th {\n",
              "        text-align: right;\n",
              "    }\n",
              "</style>\n",
              "<table border=\"1\" class=\"dataframe\">\n",
              "  <thead>\n",
              "    <tr style=\"text-align: right;\">\n",
              "      <th></th>\n",
              "      <th>Data.Precipitation</th>\n",
              "      <th>Date.Full</th>\n",
              "      <th>Date.Month</th>\n",
              "      <th>Date.Week of</th>\n",
              "      <th>Date.Year</th>\n",
              "      <th>Station.City</th>\n",
              "      <th>Station.Code</th>\n",
              "      <th>Station.Location</th>\n",
              "      <th>Station.State</th>\n",
              "      <th>Data.Temperature.Avg Temp</th>\n",
              "      <th>Data.Temperature.Max Temp</th>\n",
              "      <th>Data.Temperature.Min Temp</th>\n",
              "      <th>Data.Wind.Direction</th>\n",
              "      <th>Data.Wind.Speed</th>\n",
              "    </tr>\n",
              "  </thead>\n",
              "  <tbody>\n",
              "    <tr>\n",
              "      <th>0</th>\n",
              "      <td>0.00</td>\n",
              "      <td>2016-01-03</td>\n",
              "      <td>1</td>\n",
              "      <td>3</td>\n",
              "      <td>2016</td>\n",
              "      <td>Birmingham</td>\n",
              "      <td>BHM</td>\n",
              "      <td>Birmingham, AL</td>\n",
              "      <td>Alabama</td>\n",
              "      <td>39</td>\n",
              "      <td>46</td>\n",
              "      <td>32</td>\n",
              "      <td>33</td>\n",
              "      <td>4.33</td>\n",
              "    </tr>\n",
              "    <tr>\n",
              "      <th>1</th>\n",
              "      <td>0.00</td>\n",
              "      <td>2016-01-03</td>\n",
              "      <td>1</td>\n",
              "      <td>3</td>\n",
              "      <td>2016</td>\n",
              "      <td>Huntsville</td>\n",
              "      <td>HSV</td>\n",
              "      <td>Huntsville, AL</td>\n",
              "      <td>Alabama</td>\n",
              "      <td>39</td>\n",
              "      <td>47</td>\n",
              "      <td>31</td>\n",
              "      <td>32</td>\n",
              "      <td>3.86</td>\n",
              "    </tr>\n",
              "    <tr>\n",
              "      <th>2</th>\n",
              "      <td>0.16</td>\n",
              "      <td>2016-01-03</td>\n",
              "      <td>1</td>\n",
              "      <td>3</td>\n",
              "      <td>2016</td>\n",
              "      <td>Mobile</td>\n",
              "      <td>MOB</td>\n",
              "      <td>Mobile, AL</td>\n",
              "      <td>Alabama</td>\n",
              "      <td>46</td>\n",
              "      <td>51</td>\n",
              "      <td>41</td>\n",
              "      <td>35</td>\n",
              "      <td>9.73</td>\n",
              "    </tr>\n",
              "    <tr>\n",
              "      <th>3</th>\n",
              "      <td>0.00</td>\n",
              "      <td>2016-01-03</td>\n",
              "      <td>1</td>\n",
              "      <td>3</td>\n",
              "      <td>2016</td>\n",
              "      <td>Montgomery</td>\n",
              "      <td>MGM</td>\n",
              "      <td>Montgomery, AL</td>\n",
              "      <td>Alabama</td>\n",
              "      <td>45</td>\n",
              "      <td>52</td>\n",
              "      <td>38</td>\n",
              "      <td>32</td>\n",
              "      <td>6.86</td>\n",
              "    </tr>\n",
              "    <tr>\n",
              "      <th>4</th>\n",
              "      <td>0.01</td>\n",
              "      <td>2016-01-03</td>\n",
              "      <td>1</td>\n",
              "      <td>3</td>\n",
              "      <td>2016</td>\n",
              "      <td>Anchorage</td>\n",
              "      <td>ANC</td>\n",
              "      <td>Anchorage, AK</td>\n",
              "      <td>Alaska</td>\n",
              "      <td>34</td>\n",
              "      <td>38</td>\n",
              "      <td>29</td>\n",
              "      <td>19</td>\n",
              "      <td>7.80</td>\n",
              "    </tr>\n",
              "    <tr>\n",
              "      <th>...</th>\n",
              "      <td>...</td>\n",
              "      <td>...</td>\n",
              "      <td>...</td>\n",
              "      <td>...</td>\n",
              "      <td>...</td>\n",
              "      <td>...</td>\n",
              "      <td>...</td>\n",
              "      <td>...</td>\n",
              "      <td>...</td>\n",
              "      <td>...</td>\n",
              "      <td>...</td>\n",
              "      <td>...</td>\n",
              "      <td>...</td>\n",
              "      <td>...</td>\n",
              "    </tr>\n",
              "    <tr>\n",
              "      <th>16738</th>\n",
              "      <td>0.08</td>\n",
              "      <td>2017-01-01</td>\n",
              "      <td>1</td>\n",
              "      <td>1</td>\n",
              "      <td>2017</td>\n",
              "      <td>Casper</td>\n",
              "      <td>CPR</td>\n",
              "      <td>Casper, WY</td>\n",
              "      <td>Wyoming</td>\n",
              "      <td>23</td>\n",
              "      <td>32</td>\n",
              "      <td>15</td>\n",
              "      <td>23</td>\n",
              "      <td>19.98</td>\n",
              "    </tr>\n",
              "    <tr>\n",
              "      <th>16739</th>\n",
              "      <td>0.00</td>\n",
              "      <td>2017-01-01</td>\n",
              "      <td>1</td>\n",
              "      <td>1</td>\n",
              "      <td>2017</td>\n",
              "      <td>Cheyenne</td>\n",
              "      <td>CYS</td>\n",
              "      <td>Cheyenne, WY</td>\n",
              "      <td>Wyoming</td>\n",
              "      <td>32</td>\n",
              "      <td>42</td>\n",
              "      <td>21</td>\n",
              "      <td>26</td>\n",
              "      <td>15.16</td>\n",
              "    </tr>\n",
              "    <tr>\n",
              "      <th>16740</th>\n",
              "      <td>0.00</td>\n",
              "      <td>2017-01-01</td>\n",
              "      <td>1</td>\n",
              "      <td>1</td>\n",
              "      <td>2017</td>\n",
              "      <td>Lander</td>\n",
              "      <td>LND</td>\n",
              "      <td>Lander, WY</td>\n",
              "      <td>Wyoming</td>\n",
              "      <td>17</td>\n",
              "      <td>29</td>\n",
              "      <td>4</td>\n",
              "      <td>26</td>\n",
              "      <td>1.65</td>\n",
              "    </tr>\n",
              "    <tr>\n",
              "      <th>16741</th>\n",
              "      <td>0.06</td>\n",
              "      <td>2017-01-01</td>\n",
              "      <td>1</td>\n",
              "      <td>1</td>\n",
              "      <td>2017</td>\n",
              "      <td>Rawlins</td>\n",
              "      <td>RWL</td>\n",
              "      <td>Rawlins, WY</td>\n",
              "      <td>Wyoming</td>\n",
              "      <td>23</td>\n",
              "      <td>31</td>\n",
              "      <td>13</td>\n",
              "      <td>24</td>\n",
              "      <td>18.16</td>\n",
              "    </tr>\n",
              "    <tr>\n",
              "      <th>16742</th>\n",
              "      <td>0.10</td>\n",
              "      <td>2017-01-01</td>\n",
              "      <td>1</td>\n",
              "      <td>1</td>\n",
              "      <td>2017</td>\n",
              "      <td>Sheridan</td>\n",
              "      <td>SHR</td>\n",
              "      <td>Sheridan, WY</td>\n",
              "      <td>Wyoming</td>\n",
              "      <td>21</td>\n",
              "      <td>34</td>\n",
              "      <td>8</td>\n",
              "      <td>23</td>\n",
              "      <td>7.51</td>\n",
              "    </tr>\n",
              "  </tbody>\n",
              "</table>\n",
              "<p>16743 rows × 14 columns</p>\n",
              "</div>\n",
              "      <button class=\"colab-df-convert\" onclick=\"convertToInteractive('df-e6a3ff8f-d137-4c76-921a-2c632e889e18')\"\n",
              "              title=\"Convert this dataframe to an interactive table.\"\n",
              "              style=\"display:none;\">\n",
              "        \n",
              "  <svg xmlns=\"http://www.w3.org/2000/svg\" height=\"24px\"viewBox=\"0 0 24 24\"\n",
              "       width=\"24px\">\n",
              "    <path d=\"M0 0h24v24H0V0z\" fill=\"none\"/>\n",
              "    <path d=\"M18.56 5.44l.94 2.06.94-2.06 2.06-.94-2.06-.94-.94-2.06-.94 2.06-2.06.94zm-11 1L8.5 8.5l.94-2.06 2.06-.94-2.06-.94L8.5 2.5l-.94 2.06-2.06.94zm10 10l.94 2.06.94-2.06 2.06-.94-2.06-.94-.94-2.06-.94 2.06-2.06.94z\"/><path d=\"M17.41 7.96l-1.37-1.37c-.4-.4-.92-.59-1.43-.59-.52 0-1.04.2-1.43.59L10.3 9.45l-7.72 7.72c-.78.78-.78 2.05 0 2.83L4 21.41c.39.39.9.59 1.41.59.51 0 1.02-.2 1.41-.59l7.78-7.78 2.81-2.81c.8-.78.8-2.07 0-2.86zM5.41 20L4 18.59l7.72-7.72 1.47 1.35L5.41 20z\"/>\n",
              "  </svg>\n",
              "      </button>\n",
              "      \n",
              "  <style>\n",
              "    .colab-df-container {\n",
              "      display:flex;\n",
              "      flex-wrap:wrap;\n",
              "      gap: 12px;\n",
              "    }\n",
              "\n",
              "    .colab-df-convert {\n",
              "      background-color: #E8F0FE;\n",
              "      border: none;\n",
              "      border-radius: 50%;\n",
              "      cursor: pointer;\n",
              "      display: none;\n",
              "      fill: #1967D2;\n",
              "      height: 32px;\n",
              "      padding: 0 0 0 0;\n",
              "      width: 32px;\n",
              "    }\n",
              "\n",
              "    .colab-df-convert:hover {\n",
              "      background-color: #E2EBFA;\n",
              "      box-shadow: 0px 1px 2px rgba(60, 64, 67, 0.3), 0px 1px 3px 1px rgba(60, 64, 67, 0.15);\n",
              "      fill: #174EA6;\n",
              "    }\n",
              "\n",
              "    [theme=dark] .colab-df-convert {\n",
              "      background-color: #3B4455;\n",
              "      fill: #D2E3FC;\n",
              "    }\n",
              "\n",
              "    [theme=dark] .colab-df-convert:hover {\n",
              "      background-color: #434B5C;\n",
              "      box-shadow: 0px 1px 3px 1px rgba(0, 0, 0, 0.15);\n",
              "      filter: drop-shadow(0px 1px 2px rgba(0, 0, 0, 0.3));\n",
              "      fill: #FFFFFF;\n",
              "    }\n",
              "  </style>\n",
              "\n",
              "      <script>\n",
              "        const buttonEl =\n",
              "          document.querySelector('#df-e6a3ff8f-d137-4c76-921a-2c632e889e18 button.colab-df-convert');\n",
              "        buttonEl.style.display =\n",
              "          google.colab.kernel.accessAllowed ? 'block' : 'none';\n",
              "\n",
              "        async function convertToInteractive(key) {\n",
              "          const element = document.querySelector('#df-e6a3ff8f-d137-4c76-921a-2c632e889e18');\n",
              "          const dataTable =\n",
              "            await google.colab.kernel.invokeFunction('convertToInteractive',\n",
              "                                                     [key], {});\n",
              "          if (!dataTable) return;\n",
              "\n",
              "          const docLinkHtml = 'Like what you see? Visit the ' +\n",
              "            '<a target=\"_blank\" href=https://colab.research.google.com/notebooks/data_table.ipynb>data table notebook</a>'\n",
              "            + ' to learn more about interactive tables.';\n",
              "          element.innerHTML = '';\n",
              "          dataTable['output_type'] = 'display_data';\n",
              "          await google.colab.output.renderOutput(dataTable, element);\n",
              "          const docLink = document.createElement('div');\n",
              "          docLink.innerHTML = docLinkHtml;\n",
              "          element.appendChild(docLink);\n",
              "        }\n",
              "      </script>\n",
              "    </div>\n",
              "  </div>\n",
              "  "
            ]
          },
          "metadata": {},
          "execution_count": 3
        }
      ]
    },
    {
      "cell_type": "code",
      "source": [
        "#list of all column names and example of data\n",
        "data.describe"
      ],
      "metadata": {
        "id": "pPFRuoZH_7Sz"
      },
      "execution_count": null,
      "outputs": []
    },
    {
      "cell_type": "code",
      "source": [
        "from sklearn.preprocessing import LabelEncoder\n",
        "#encoding states as categorical numerical values\n",
        "label_encoder = LabelEncoder()\n",
        "state_encoded = label_encoder.fit_transform(data[\"Station.State\"])\n",
        "data[\"Encoded.State\"] = state_encoded"
      ],
      "metadata": {
        "id": "dKg6GgPcBcka"
      },
      "execution_count": 7,
      "outputs": []
    },
    {
      "cell_type": "code",
      "source": [
        "#Data after dropping unnecessary columns\n",
        "X = data.drop([\"Date.Year\",\"Date.Full\",\"Station.City\",\"Station.Code\",\"Station.Location\",\"Station.State\",\"Data.Temperature.Avg Temp\",\"Data.Temperature.Max Temp\",\"Data.Temperature.Min Temp\"], axis = 1)\n",
        "X"
      ],
      "metadata": {
        "colab": {
          "base_uri": "https://localhost:8080/",
          "height": 423
        },
        "id": "XlSKzXD-5BIg",
        "outputId": "f09bf2c7-9f48-4543-c8b6-d5577c67e342"
      },
      "execution_count": 12,
      "outputs": [
        {
          "output_type": "execute_result",
          "data": {
            "text/plain": [
              "       Data.Precipitation  Date.Month  Date.Week of  Data.Wind.Direction  \\\n",
              "0                    0.00           1             3                   33   \n",
              "1                    0.00           1             3                   32   \n",
              "2                    0.16           1             3                   35   \n",
              "3                    0.00           1             3                   32   \n",
              "4                    0.01           1             3                   19   \n",
              "...                   ...         ...           ...                  ...   \n",
              "16738                0.08           1             1                   23   \n",
              "16739                0.00           1             1                   26   \n",
              "16740                0.00           1             1                   26   \n",
              "16741                0.06           1             1                   24   \n",
              "16742                0.10           1             1                   23   \n",
              "\n",
              "       Data.Wind.Speed  Encoded.State  \n",
              "0                 4.33              0  \n",
              "1                 3.86              0  \n",
              "2                 9.73              0  \n",
              "3                 6.86              0  \n",
              "4                 7.80              1  \n",
              "...                ...            ...  \n",
              "16738            19.98             52  \n",
              "16739            15.16             52  \n",
              "16740             1.65             52  \n",
              "16741            18.16             52  \n",
              "16742             7.51             52  \n",
              "\n",
              "[16743 rows x 6 columns]"
            ],
            "text/html": [
              "\n",
              "  <div id=\"df-2e017ef0-a7ad-4892-8f6c-0c59836123cb\">\n",
              "    <div class=\"colab-df-container\">\n",
              "      <div>\n",
              "<style scoped>\n",
              "    .dataframe tbody tr th:only-of-type {\n",
              "        vertical-align: middle;\n",
              "    }\n",
              "\n",
              "    .dataframe tbody tr th {\n",
              "        vertical-align: top;\n",
              "    }\n",
              "\n",
              "    .dataframe thead th {\n",
              "        text-align: right;\n",
              "    }\n",
              "</style>\n",
              "<table border=\"1\" class=\"dataframe\">\n",
              "  <thead>\n",
              "    <tr style=\"text-align: right;\">\n",
              "      <th></th>\n",
              "      <th>Data.Precipitation</th>\n",
              "      <th>Date.Month</th>\n",
              "      <th>Date.Week of</th>\n",
              "      <th>Data.Wind.Direction</th>\n",
              "      <th>Data.Wind.Speed</th>\n",
              "      <th>Encoded.State</th>\n",
              "    </tr>\n",
              "  </thead>\n",
              "  <tbody>\n",
              "    <tr>\n",
              "      <th>0</th>\n",
              "      <td>0.00</td>\n",
              "      <td>1</td>\n",
              "      <td>3</td>\n",
              "      <td>33</td>\n",
              "      <td>4.33</td>\n",
              "      <td>0</td>\n",
              "    </tr>\n",
              "    <tr>\n",
              "      <th>1</th>\n",
              "      <td>0.00</td>\n",
              "      <td>1</td>\n",
              "      <td>3</td>\n",
              "      <td>32</td>\n",
              "      <td>3.86</td>\n",
              "      <td>0</td>\n",
              "    </tr>\n",
              "    <tr>\n",
              "      <th>2</th>\n",
              "      <td>0.16</td>\n",
              "      <td>1</td>\n",
              "      <td>3</td>\n",
              "      <td>35</td>\n",
              "      <td>9.73</td>\n",
              "      <td>0</td>\n",
              "    </tr>\n",
              "    <tr>\n",
              "      <th>3</th>\n",
              "      <td>0.00</td>\n",
              "      <td>1</td>\n",
              "      <td>3</td>\n",
              "      <td>32</td>\n",
              "      <td>6.86</td>\n",
              "      <td>0</td>\n",
              "    </tr>\n",
              "    <tr>\n",
              "      <th>4</th>\n",
              "      <td>0.01</td>\n",
              "      <td>1</td>\n",
              "      <td>3</td>\n",
              "      <td>19</td>\n",
              "      <td>7.80</td>\n",
              "      <td>1</td>\n",
              "    </tr>\n",
              "    <tr>\n",
              "      <th>...</th>\n",
              "      <td>...</td>\n",
              "      <td>...</td>\n",
              "      <td>...</td>\n",
              "      <td>...</td>\n",
              "      <td>...</td>\n",
              "      <td>...</td>\n",
              "    </tr>\n",
              "    <tr>\n",
              "      <th>16738</th>\n",
              "      <td>0.08</td>\n",
              "      <td>1</td>\n",
              "      <td>1</td>\n",
              "      <td>23</td>\n",
              "      <td>19.98</td>\n",
              "      <td>52</td>\n",
              "    </tr>\n",
              "    <tr>\n",
              "      <th>16739</th>\n",
              "      <td>0.00</td>\n",
              "      <td>1</td>\n",
              "      <td>1</td>\n",
              "      <td>26</td>\n",
              "      <td>15.16</td>\n",
              "      <td>52</td>\n",
              "    </tr>\n",
              "    <tr>\n",
              "      <th>16740</th>\n",
              "      <td>0.00</td>\n",
              "      <td>1</td>\n",
              "      <td>1</td>\n",
              "      <td>26</td>\n",
              "      <td>1.65</td>\n",
              "      <td>52</td>\n",
              "    </tr>\n",
              "    <tr>\n",
              "      <th>16741</th>\n",
              "      <td>0.06</td>\n",
              "      <td>1</td>\n",
              "      <td>1</td>\n",
              "      <td>24</td>\n",
              "      <td>18.16</td>\n",
              "      <td>52</td>\n",
              "    </tr>\n",
              "    <tr>\n",
              "      <th>16742</th>\n",
              "      <td>0.10</td>\n",
              "      <td>1</td>\n",
              "      <td>1</td>\n",
              "      <td>23</td>\n",
              "      <td>7.51</td>\n",
              "      <td>52</td>\n",
              "    </tr>\n",
              "  </tbody>\n",
              "</table>\n",
              "<p>16743 rows × 6 columns</p>\n",
              "</div>\n",
              "      <button class=\"colab-df-convert\" onclick=\"convertToInteractive('df-2e017ef0-a7ad-4892-8f6c-0c59836123cb')\"\n",
              "              title=\"Convert this dataframe to an interactive table.\"\n",
              "              style=\"display:none;\">\n",
              "        \n",
              "  <svg xmlns=\"http://www.w3.org/2000/svg\" height=\"24px\"viewBox=\"0 0 24 24\"\n",
              "       width=\"24px\">\n",
              "    <path d=\"M0 0h24v24H0V0z\" fill=\"none\"/>\n",
              "    <path d=\"M18.56 5.44l.94 2.06.94-2.06 2.06-.94-2.06-.94-.94-2.06-.94 2.06-2.06.94zm-11 1L8.5 8.5l.94-2.06 2.06-.94-2.06-.94L8.5 2.5l-.94 2.06-2.06.94zm10 10l.94 2.06.94-2.06 2.06-.94-2.06-.94-.94-2.06-.94 2.06-2.06.94z\"/><path d=\"M17.41 7.96l-1.37-1.37c-.4-.4-.92-.59-1.43-.59-.52 0-1.04.2-1.43.59L10.3 9.45l-7.72 7.72c-.78.78-.78 2.05 0 2.83L4 21.41c.39.39.9.59 1.41.59.51 0 1.02-.2 1.41-.59l7.78-7.78 2.81-2.81c.8-.78.8-2.07 0-2.86zM5.41 20L4 18.59l7.72-7.72 1.47 1.35L5.41 20z\"/>\n",
              "  </svg>\n",
              "      </button>\n",
              "      \n",
              "  <style>\n",
              "    .colab-df-container {\n",
              "      display:flex;\n",
              "      flex-wrap:wrap;\n",
              "      gap: 12px;\n",
              "    }\n",
              "\n",
              "    .colab-df-convert {\n",
              "      background-color: #E8F0FE;\n",
              "      border: none;\n",
              "      border-radius: 50%;\n",
              "      cursor: pointer;\n",
              "      display: none;\n",
              "      fill: #1967D2;\n",
              "      height: 32px;\n",
              "      padding: 0 0 0 0;\n",
              "      width: 32px;\n",
              "    }\n",
              "\n",
              "    .colab-df-convert:hover {\n",
              "      background-color: #E2EBFA;\n",
              "      box-shadow: 0px 1px 2px rgba(60, 64, 67, 0.3), 0px 1px 3px 1px rgba(60, 64, 67, 0.15);\n",
              "      fill: #174EA6;\n",
              "    }\n",
              "\n",
              "    [theme=dark] .colab-df-convert {\n",
              "      background-color: #3B4455;\n",
              "      fill: #D2E3FC;\n",
              "    }\n",
              "\n",
              "    [theme=dark] .colab-df-convert:hover {\n",
              "      background-color: #434B5C;\n",
              "      box-shadow: 0px 1px 3px 1px rgba(0, 0, 0, 0.15);\n",
              "      filter: drop-shadow(0px 1px 2px rgba(0, 0, 0, 0.3));\n",
              "      fill: #FFFFFF;\n",
              "    }\n",
              "  </style>\n",
              "\n",
              "      <script>\n",
              "        const buttonEl =\n",
              "          document.querySelector('#df-2e017ef0-a7ad-4892-8f6c-0c59836123cb button.colab-df-convert');\n",
              "        buttonEl.style.display =\n",
              "          google.colab.kernel.accessAllowed ? 'block' : 'none';\n",
              "\n",
              "        async function convertToInteractive(key) {\n",
              "          const element = document.querySelector('#df-2e017ef0-a7ad-4892-8f6c-0c59836123cb');\n",
              "          const dataTable =\n",
              "            await google.colab.kernel.invokeFunction('convertToInteractive',\n",
              "                                                     [key], {});\n",
              "          if (!dataTable) return;\n",
              "\n",
              "          const docLinkHtml = 'Like what you see? Visit the ' +\n",
              "            '<a target=\"_blank\" href=https://colab.research.google.com/notebooks/data_table.ipynb>data table notebook</a>'\n",
              "            + ' to learn more about interactive tables.';\n",
              "          element.innerHTML = '';\n",
              "          dataTable['output_type'] = 'display_data';\n",
              "          await google.colab.output.renderOutput(dataTable, element);\n",
              "          const docLink = document.createElement('div');\n",
              "          docLink.innerHTML = docLinkHtml;\n",
              "          element.appendChild(docLink);\n",
              "        }\n",
              "      </script>\n",
              "    </div>\n",
              "  </div>\n",
              "  "
            ]
          },
          "metadata": {},
          "execution_count": 12
        }
      ]
    },
    {
      "cell_type": "code",
      "source": [
        "#Target column to be predicted\n",
        "y = data[\"Data.Temperature.Avg Temp\"]\n",
        "y"
      ],
      "metadata": {
        "colab": {
          "base_uri": "https://localhost:8080/"
        },
        "id": "31W7HwOU5XpQ",
        "outputId": "1e3bc9be-b54e-49be-ced2-d00ba0b1cbad"
      },
      "execution_count": 13,
      "outputs": [
        {
          "output_type": "execute_result",
          "data": {
            "text/plain": [
              "0        39\n",
              "1        39\n",
              "2        46\n",
              "3        45\n",
              "4        34\n",
              "         ..\n",
              "16738    23\n",
              "16739    32\n",
              "16740    17\n",
              "16741    23\n",
              "16742    21\n",
              "Name: Data.Temperature.Avg Temp, Length: 16743, dtype: int64"
            ]
          },
          "metadata": {},
          "execution_count": 13
        }
      ]
    },
    {
      "cell_type": "code",
      "source": [
        "X_train, X_test, y_train, y_test = sklearn.model_selection.train_test_split(X, y, random_state=1)\n"
      ],
      "metadata": {
        "id": "ANyOMR3A0P3t"
      },
      "execution_count": 30,
      "outputs": []
    },
    {
      "cell_type": "code",
      "source": [
        "#making the model ensemble limited to 120 seconds and no more than 30 seconds per individual model\n",
        "automl = autosklearn.regression.AutoSklearnRegressor(\n",
        "    time_left_for_this_task=300,\n",
        "    per_run_time_limit=45,\n",
        "    tmp_folder='/tmp/testing',\n",
        ")\n",
        "automl.fit(X_train, y_train, dataset_name='temp')"
      ],
      "metadata": {
        "id": "6Dy4EC-D0hic",
        "colab": {
          "base_uri": "https://localhost:8080/"
        },
        "outputId": "42ef18c5-199f-4334-f0b1-2ab8074d410b"
      },
      "execution_count": 31,
      "outputs": [
        {
          "output_type": "execute_result",
          "data": {
            "text/plain": [
              "AutoSklearnRegressor(per_run_time_limit=45, time_left_for_this_task=300,\n",
              "                     tmp_folder='/tmp/testing')"
            ]
          },
          "metadata": {},
          "execution_count": 31
        }
      ]
    },
    {
      "cell_type": "code",
      "source": [
        "print(automl.leaderboard()) #shows the best runs and their weights in the ensemble\n",
        "#pprint(automl.show_models(), indent=4)"
      ],
      "metadata": {
        "colab": {
          "base_uri": "https://localhost:8080/"
        },
        "id": "UAn3gUwI51wY",
        "outputId": "9b94ebb4-c69a-4e21-89f6-62b3c39f7b1d"
      },
      "execution_count": 32,
      "outputs": [
        {
          "output_type": "stream",
          "name": "stdout",
          "text": [
            "          rank  ensemble_weight               type      cost   duration\n",
            "model_id                                                               \n",
            "3            1             0.30  gradient_boosting  0.118352   5.905216\n",
            "13           2             0.36  gradient_boosting  0.118409   3.233913\n",
            "19           3             0.28  gradient_boosting  0.123061   6.744082\n",
            "2            4             0.06      random_forest  0.146328  16.343871\n"
          ]
        }
      ]
    },
    {
      "cell_type": "code",
      "source": [
        "test_predictions = automl.predict(X_test)"
      ],
      "metadata": {
        "id": "NG99Cf7y3x4X"
      },
      "execution_count": 33,
      "outputs": []
    },
    {
      "cell_type": "code",
      "source": [
        "from sklearn.metrics import mean_absolute_error\n",
        "\n",
        "print(\"Sklearn AutoML R2 score:\", sklearn.metrics.r2_score(y_test, test_predictions))\n",
        "print(\"Sklearn AutoML Mean Absolute Error:\", sklearn.metrics.mean_absolute_error(y_test, test_predictions))"
      ],
      "metadata": {
        "colab": {
          "base_uri": "https://localhost:8080/"
        },
        "id": "TD9nq304078g",
        "outputId": "1ed8edd1-8055-48fb-d4f7-b7f843bbc38a"
      },
      "execution_count": 34,
      "outputs": [
        {
          "output_type": "stream",
          "name": "stdout",
          "text": [
            "Sklearn AutoML R2 score: 0.8987710001250424\n",
            "Sklearn AutoML Mean Absolute Error: 4.124299030192107\n"
          ]
        }
      ]
    },
    {
      "cell_type": "code",
      "source": [
        "from sklearn.ensemble import RandomForestRegressor\n",
        "\n",
        "rf = RandomForestRegressor()\n",
        "rf_model = rf.fit(X_train,y_train)\n",
        "rf_pred = rf_model.predict(X_test)"
      ],
      "metadata": {
        "id": "VRuiLJ0nzaFL"
      },
      "execution_count": 35,
      "outputs": []
    },
    {
      "cell_type": "code",
      "source": [
        "print(\"Sklearn Random Forest Regressor R2 score:\", sklearn.metrics.r2_score(y_test, rf_pred))\n",
        "print(\"Sklearn Random Forest Regressor Mean Absolute Error:\", sklearn.metrics.mean_absolute_error(y_test, rf_pred))"
      ],
      "metadata": {
        "colab": {
          "base_uri": "https://localhost:8080/"
        },
        "id": "vLTugKKL1iBd",
        "outputId": "f46b48aa-3c79-4083-d523-2b444489b878"
      },
      "execution_count": 36,
      "outputs": [
        {
          "output_type": "stream",
          "name": "stdout",
          "text": [
            "Sklearn Random Forest Regressor R2 score: 0.8744001443572691\n",
            "Sklearn Random Forest Regressor Mean Absolute Error: 4.519054188565058\n"
          ]
        }
      ]
    },
    {
      "cell_type": "code",
      "source": [
        "from sklearn.ensemble import GradientBoostingRegressor\n",
        "\n",
        "gb = GradientBoostingRegressor()\n",
        "gb_model = gb.fit(X_train, y_train)\n",
        "gb_pred = gb_model.predict(X_test)"
      ],
      "metadata": {
        "id": "eZQBUT1510Lj"
      },
      "execution_count": 37,
      "outputs": []
    },
    {
      "cell_type": "code",
      "source": [
        "print(\"Sklearn Gradient Boosting Regressor R2 score:\", sklearn.metrics.r2_score(y_test, gb_pred))\n",
        "print(\"Sklearn Gradient Boosting Regressor Mean Absolute Error:\", sklearn.metrics.mean_absolute_error(y_test, gb_pred))"
      ],
      "metadata": {
        "colab": {
          "base_uri": "https://localhost:8080/"
        },
        "id": "uVhKXUeD2YI6",
        "outputId": "fed0557e-2c34-4689-e53c-a995b6ec51f6"
      },
      "execution_count": 38,
      "outputs": [
        {
          "output_type": "stream",
          "name": "stdout",
          "text": [
            "Sklearn Gradient Boosting Regressor R2 score: 0.8197489730827267\n",
            "Sklearn Gradient Boosting Regressor Mean Absolute Error: 5.9203894859708095\n"
          ]
        }
      ]
    }
  ]
}
